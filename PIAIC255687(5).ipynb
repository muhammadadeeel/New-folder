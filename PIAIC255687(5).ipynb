{
 "cells": [
  {
   "cell_type": "markdown",
   "metadata": {},
   "source": [
    "# Python Assignment: 5\n",
    "Question 1: Ticket Pricing System"
   ]
  },
  {
   "cell_type": "code",
   "execution_count": 1,
   "metadata": {},
   "outputs": [
    {
     "name": "stdout",
     "output_type": "stream",
     "text": [
      "Hey! John your ticket price is: 20$\n"
     ]
    }
   ],
   "source": [
    "visitor_name=input(\"Type your name here:\")\n",
    "birth_year=input(\"Enter Your BirthYear:\")\n",
    "age=2025-int(birth_year)\n",
    "if age<=5:\n",
    "    print(f'Hey! {visitor_name} your ticket price is: 0$')\n",
    "elif age>5 and age<=17:\n",
    "    print(f'Hey! {visitor_name} your ticket price is: 10$')\n",
    "elif age>17 and age<=60:\n",
    "    print(f'Hey! {visitor_name} your ticket price is: 20$')\n",
    "else:\n",
    "    print(f'Hey! {visitor_name} your ticket price is: 15$')"
   ]
  },
  {
   "cell_type": "markdown",
   "metadata": {},
   "source": [
    "Question 2: Meal Recommendation"
   ]
  },
  {
   "cell_type": "code",
   "execution_count": 15,
   "metadata": {},
   "outputs": [
    {
     "name": "stdout",
     "output_type": "stream",
     "text": [
      "You can have snacks now.\n"
     ]
    }
   ],
   "source": [
    "current_time = input(\"Enter the current time in 24 hour format:\")\n",
    "if int(current_time)>=5 and int(current_time)<=11:\n",
    "    print(f'You can have breakfast now.')\n",
    "elif int(current_time)>=12 and int(current_time)<=16:\n",
    "    print(f'You can have lunch now.')\n",
    "elif int(current_time)>=17 and int(current_time)<=21:\n",
    "    print(f'You Can have dinner now.')\n",
    "else:\n",
    "    print(f'You can have snacks now.')"
   ]
  },
  {
   "cell_type": "markdown",
   "metadata": {},
   "source": [
    "Question 3: Grocery Bill Calculator"
   ]
  },
  {
   "cell_type": "code",
   "execution_count": 1,
   "metadata": {},
   "outputs": [
    {
     "name": "stdout",
     "output_type": "stream",
     "text": [
      "Your total bill is: 102$\n",
      "You got 10% discount on your total bill.\n",
      "Your discounted bill is: 91.8$\n"
     ]
    }
   ],
   "source": [
    "item1_value = input(\"Enter the price of item1:\")\n",
    "item2_value = input(\"Enter the price of item2:\")\n",
    "item3_value = input(\"Enter the price of item3:\")\n",
    "item4_value = input(\"Enter the price of item4:\")\n",
    "item5_value = input(\"Enter the price of item5:\")\n",
    "total_bill = int(item1_value)+int(item2_value)+int(item3_value)+int(item4_value)+int(item5_value)\n",
    "if total_bill>=100:\n",
    "    discount = total_bill*10/100\n",
    "    print(f'Your total bill is: {total_bill}$')\n",
    "    print(f'You got 10% discount on your total bill.')\n",
    "    print(f'Your discounted bill is: {total_bill-discount}$')"
   ]
  },
  {
   "cell_type": "markdown",
   "metadata": {},
   "source": [
    "Question 4: Username Validator"
   ]
  },
  {
   "cell_type": "code",
   "execution_count": 11,
   "metadata": {},
   "outputs": [
    {
     "name": "stdout",
     "output_type": "stream",
     "text": [
      "username is valid\n"
     ]
    }
   ],
   "source": [
    "user_name = input(\"Enter your name:\")\n",
    "if len(user_name)>=5 and len(user_name)<=15:\n",
    "    if user_name[0].isalpha():\n",
    "        print(f'username is valid')\n",
    "    else:\n",
    "        print(f'username is invalid')\n",
    "else:\n",
    "    print(f'username is invalid')"
   ]
  },
  {
   "cell_type": "markdown",
   "metadata": {},
   "source": [
    "Question 5: Travel Destination Suggestion"
   ]
  },
  {
   "cell_type": "code",
   "execution_count": 24,
   "metadata": {},
   "outputs": [
    {
     "name": "stdout",
     "output_type": "stream",
     "text": [
      "Go Skiing!\n"
     ]
    }
   ],
   "source": [
    "weather = input(\"How's weather outside (sunny / rainy / snowy):\").lower()\n",
    "if weather == 'sunny':\n",
    "    print(f'Go to Beach!')\n",
    "elif weather == 'rainy':\n",
    "    print(f'Visit a cozy mountain Lodge!')\n",
    "elif weather == 'snowy':\n",
    "    print(f'Go Skiing!')\n",
    "else:\n",
    "    print(f'Invalid Weather!')\n"
   ]
  },
  {
   "cell_type": "markdown",
   "metadata": {},
   "source": [
    "Question 6: Discount Eligibility Checker"
   ]
  },
  {
   "cell_type": "code",
   "execution_count": 6,
   "metadata": {},
   "outputs": [
    {
     "name": "stdout",
     "output_type": "stream",
     "text": [
      "You're Eligible for Discount!\n"
     ]
    }
   ],
   "source": [
    "spending = input(\"Enter the amount you spent:\")\n",
    "membership = input(\"Are you a member of the store (yes / no):\").lower()\n",
    "if int(spending) >= 200:\n",
    "    print(\"You're Eligible for Discount!\")\n",
    "elif membership == 'yes':\n",
    "    print(\"You're Eligible for Discount!\")\n",
    "else:\n",
    "    print(\"You're not eligible!\")"
   ]
  },
  {
   "cell_type": "markdown",
   "metadata": {},
   "source": [
    "Question 7: Event Invitation"
   ]
  },
  {
   "cell_type": "code",
   "execution_count": 13,
   "metadata": {},
   "outputs": [
    {
     "name": "stdout",
     "output_type": "stream",
     "text": [
      "Welcome! Dear Jawad\n"
     ]
    }
   ],
   "source": [
    "invited_people = ['Ali', 'Jawad', 'Nasir','Zain','zaib']\n",
    "guest_name = input(\"Type your Name here:\").capitalize()\n",
    "if guest_name in invited_people:\n",
    "    print(f\"Welcome! Dear {guest_name}\")\n",
    "else:\n",
    "    print(\"You're not invited\")"
   ]
  },
  {
   "cell_type": "markdown",
   "metadata": {},
   "source": [
    "Question 7: Event Invitation"
   ]
  },
  {
   "cell_type": "code",
   "execution_count": 18,
   "metadata": {},
   "outputs": [
    {
     "name": "stdout",
     "output_type": "stream",
     "text": [
      "You are not eligible to watch Action Movies. You must be 18 or older.\n"
     ]
    }
   ],
   "source": [
    "visitor_age = int(input(\"Enter Your age here:\"))\n",
    "type = input(\"which type of movie you like (Animated , Documentries , Action:)\").lower()\n",
    "if type == \"action\":\n",
    "        if visitor_age >= 18:\n",
    "            print(\"You are eligible to watch Action Movies.\")\n",
    "        else:\n",
    "            print(\"You are not eligible to watch Action Movies. You must be 18 or older.\")\n",
    "elif type == \"animated\":\n",
    "        print(\"You are eligible to watch Animated Movies.\")\n",
    "elif type == \"documentary\":\n",
    "        if visitor_age >= 12:\n",
    "            print(\"You are eligible to watch Documentaries.\")\n",
    "        else:\n",
    "            print(\"You are not eligible to watch Documentaries. You must be 12 or older.\")\n",
    "else:\n",
    "        print(\"Invalid movie type. Please choose Action, Animated, or Documentary.\")"
   ]
  },
  {
   "cell_type": "markdown",
   "metadata": {},
   "source": [
    "Question 9: Phone Number Formatter"
   ]
  },
  {
   "cell_type": "code",
   "execution_count": 22,
   "metadata": {},
   "outputs": [
    {
     "name": "stdout",
     "output_type": "stream",
     "text": [
      "Formatted Phone Number is: (348) 701-0420\n"
     ]
    }
   ],
   "source": [
    "phone_number = input(\"Type your phone number without space & hyphen:\")\n",
    "if len(phone_number) == 10 and phone_number.isdigit():\n",
    "    formatted_number = f\"({phone_number[:3]}) {phone_number[3:6]}-{phone_number[6:]}\"\n",
    "    print(\"Formatted Phone Number is:\", formatted_number)\n",
    "else:\n",
    "    print(\"Invalid Input! Please enter a 10-Digit number.\")"
   ]
  },
  {
   "cell_type": "markdown",
   "metadata": {},
   "source": [
    "Question 10: Package Shipping Cost"
   ]
  },
  {
   "cell_type": "code",
   "execution_count": 10,
   "metadata": {},
   "outputs": [
    {
     "name": "stdout",
     "output_type": "stream",
     "text": [
      "Your Package shipping cost is 15$.\n"
     ]
    }
   ],
   "source": [
    "weight = int(input(\"Enter the weight of the package in kg: \"))\n",
    "if weight <= 1:\n",
    "    print(\"Your Package shipping cost is 5$.\")\n",
    "elif 1 < weight <= 5:\n",
    "    print(\"Your Package shipping cost is 10$.\")\n",
    "elif 5 < weight <= 20:\n",
    "    print(\"Your Package shipping cost is 15$.\")\n",
    "elif weight > 20:\n",
    "    print(\"Your Package shipping cost is 20$.\")\n",
    "else:\n",
    "    print(\"Invalid input.\")"
   ]
  },
  {
   "cell_type": "markdown",
   "metadata": {},
   "source": [
    "Question 11: Student Grading System"
   ]
  },
  {
   "cell_type": "code",
   "execution_count": 20,
   "metadata": {},
   "outputs": [
    {
     "name": "stdout",
     "output_type": "stream",
     "text": [
      "You Obtained 390 out of 500\n",
      "Your Obtained Marks Percentage is 78.0 %.\n",
      "You Obtained C Grade.\n"
     ]
    }
   ],
   "source": [
    "maths = int(input(\"Enter You Marks Obtain out of 100 in Maths here:\"))\n",
    "chemistry = int(input(\"Enter You Marks Obtain out of 100 in Chemistry here:\"))\n",
    "physics = int(input(\"Enter You Marks Obtain out of 100 in Physics here:\"))\n",
    "english = int(input(\"Enter You Marks Obtain out of 100 in English here:\"))\n",
    "urdu = int(input(\"Enter You Marks Obtain out of 100 in Urdu here:\"))\n",
    "obtained_marks = maths + chemistry + physics + english + urdu\n",
    "total_marks = 500\n",
    "percentage_obtained = (obtained_marks / total_marks) * 100\n",
    "print(f\"You Obtained {obtained_marks} out of {total_marks}\")\n",
    "print(f\"Your Obtained Marks Percentage is {percentage_obtained} %.\")\n",
    "if percentage_obtained >= 90 and percentage_obtained <= 100:\n",
    "    print(\"You Obtained A Grade.\")\n",
    "elif 89 >= percentage_obtained >= 80:\n",
    "    print(\"You Obtained B Grade.\")\n",
    "elif 79 >= percentage_obtained >= 70:\n",
    "    print(\"You Obtained C Grade.\")\n",
    "elif 69 >= percentage_obtained >= 60:\n",
    "    print(\"You Obtained D Grade.\")\n",
    "elif percentage_obtained < 60:\n",
    "    print(\"You Obtained F Grade.\")\n",
    "else:\n",
    "    print(\"Invalid Marks input!\")"
   ]
  }
 ],
 "metadata": {
  "kernelspec": {
   "display_name": "Python 3",
   "language": "python",
   "name": "python3"
  },
  "language_info": {
   "codemirror_mode": {
    "name": "ipython",
    "version": 3
   },
   "file_extension": ".py",
   "mimetype": "text/x-python",
   "name": "python",
   "nbconvert_exporter": "python",
   "pygments_lexer": "ipython3",
   "version": "3.13.1"
  }
 },
 "nbformat": 4,
 "nbformat_minor": 2
}
